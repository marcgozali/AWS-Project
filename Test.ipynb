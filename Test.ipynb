{
 "cells": [
  {
   "cell_type": "code",
   "execution_count": null,
   "id": "6b824a64",
   "metadata": {},
   "outputs": [],
   "source": [
    "!pip3 install av"
   ]
  },
  {
   "cell_type": "code",
   "execution_count": 1,
   "id": "6b318ebe",
   "metadata": {},
   "outputs": [],
   "source": [
    "import json\n",
    "import boto3\n",
    "import io\n",
    "import imageio\n",
    "import numpy as np\n",
    "import tqdm\n",
    "import matplotlib.pyplot as plt\n",
    "from PIL import Image, ImageDraw\n",
    "import av"
   ]
  },
  {
   "cell_type": "code",
   "execution_count": 5,
   "id": "e0aad216",
   "metadata": {},
   "outputs": [
    {
     "name": "stderr",
     "output_type": "stream",
     "text": [
      "Processing frames: 600it [02:09,  4.63it/s]"
     ]
    },
    {
     "name": "stdout",
     "output_type": "stream",
     "text": [
      "['TennisSwing', 'WritingOnBoard']\n",
      "{'TennisSwing': 512, 'WritingOnBoard': 88}\n"
     ]
    },
    {
     "name": "stderr",
     "output_type": "stream",
     "text": [
      "\n"
     ]
    }
   ],
   "source": [
    "##### demo #####\n",
    "runtime = boto3.Session().client(service_name='sagemaker-runtime')\n",
    "freq = {}\n",
    "arr = []\n",
    "output_frames = []\n",
    "# 6 sec \n",
    "# video_name = 'videos/IMG_3553.MOV'\n",
    "# long \n",
    "video_name = 'videos/IMG_3547.MOV' \n",
    "#### extracing frames ####\n",
    "def extract_frames(video_path):\n",
    "    frames = []\n",
    "    video = av.open(video_path)\n",
    "    for frame in video.decode(0):\n",
    "        yield frame.to_image() \n",
    "\n",
    "##### enumerate through video #####\n",
    "for j, frame in tqdm.tqdm(enumerate(extract_frames(video_name)), desc=\"Processing frames\"):\n",
    "    if j >= 600:\n",
    "        break\n",
    "    # formatting image byte array #\n",
    "    frame = frame.resize((320,240), Image.ANTIALIAS)\n",
    "    byteImgIO = io.BytesIO()\n",
    "    frame.save(byteImgIO, \"PNG\")\n",
    "    byteImgIO.seek(0)\n",
    "    byteImg = byteImgIO.read()\n",
    "    # send to endpoint #\n",
    "    response = runtime.invoke_endpoint(\n",
    "        EndpointName='pytorch-inference-2021-08-04-21-40-58-634',\n",
    "        ContentType='application/x-image',\n",
    "        Body=bytearray(byteImg)\n",
    "    )\n",
    "    # read response and create frequency #\n",
    "    res = json.loads(response['Body'].read().decode())\n",
    "    ## draw gif ##\n",
    "    d = ImageDraw.Draw(frame)\n",
    "    d.text(xy=(10, 10), text=res[0], fill=(255, 255, 255))\n",
    "    output_frames += [frame]\n",
    "    ## histogram ##\n",
    "    if res[0] in freq:\n",
    "        freq[res[0]] += 1\n",
    "    else:\n",
    "        freq[res[0]] = 1\n",
    "\n",
    "print(sorted(freq, key=freq.get, reverse=True)[:5])\n",
    "print(freq)"
   ]
  },
  {
   "cell_type": "code",
   "execution_count": null,
   "id": "e3370cca",
   "metadata": {},
   "outputs": [],
   "source": [
    "## save to gif ##\n",
    "# Processing frames: 1081it [03:50,  4.68it/s]\n",
    "# Processing frames: 358it [01:13,  4.88it/s]\n",
    "imageio.mimsave('output.gif', output_frames, fps=60)"
   ]
  },
  {
   "cell_type": "code",
   "execution_count": null,
   "id": "d0b35ed4",
   "metadata": {},
   "outputs": [],
   "source": [
    "## https://github.com/ipython/ipython/issues/10045\n",
    "from IPython.core.interactiveshell import InteractiveShell\n",
    "InteractiveShell.ast_node_interactivity = \"all\"\n",
    "from IPython import display\n",
    "from pathlib import Path\n",
    "gifPath = Path(\"output.gif\")\n",
    "# Display GIF in Jupyter, CoLab, IPython\n",
    "with open(gifPath,'rb') as f:\n",
    "    display.Image(data=f.read(), format='png')"
   ]
  },
  {
   "cell_type": "code",
   "execution_count": null,
   "id": "4ad42103",
   "metadata": {},
   "outputs": [],
   "source": [
    "### backup ###\n",
    "response = runtime.invoke_endpoint(\n",
    "    EndpointName='pytorch-inference-2021-08-04-21-40-58-634',\n",
    "    ContentType='application/x-image',\n",
    "    Body=bytearray(img)\n",
    ")"
   ]
  }
 ],
 "metadata": {
  "kernelspec": {
   "display_name": "conda_pytorch_latest_p36",
   "language": "python",
   "name": "conda_pytorch_latest_p36"
  },
  "language_info": {
   "codemirror_mode": {
    "name": "ipython",
    "version": 3
   },
   "file_extension": ".py",
   "mimetype": "text/x-python",
   "name": "python",
   "nbconvert_exporter": "python",
   "pygments_lexer": "ipython3",
   "version": "3.6.13"
  }
 },
 "nbformat": 4,
 "nbformat_minor": 5
}
