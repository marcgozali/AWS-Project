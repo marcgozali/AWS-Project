{
 "cells": [
  {
   "cell_type": "code",
   "execution_count": 4,
   "id": "43fa1dec",
   "metadata": {},
   "outputs": [],
   "source": [
    "from sagemaker.pytorch import PyTorchModel\n",
    "from sagemaker import get_execution_role"
   ]
  },
  {
   "cell_type": "code",
   "execution_count": 5,
   "id": "2b72aef8",
   "metadata": {},
   "outputs": [
    {
     "name": "stdout",
     "output_type": "stream",
     "text": [
      "arn:aws:iam::388188739401:role/AmazonSageMaker-ExecutionRole-20210318\n"
     ]
    }
   ],
   "source": [
    "role = get_execution_role()\n",
    "print(role)"
   ]
  },
  {
   "cell_type": "code",
   "execution_count": 6,
   "id": "0595e55a",
   "metadata": {},
   "outputs": [
    {
     "name": "stderr",
     "output_type": "stream",
     "text": [
      "Defaulting to the only supported framework/algorithm version: 1.3.1. Ignoring framework/algorithm version: 1.8.\n"
     ]
    },
    {
     "name": "stdout",
     "output_type": "stream",
     "text": [
      "---------------------!"
     ]
    }
   ],
   "source": [
    "### test other instance_types ###\n",
    "pytorch_model = PyTorchModel(model_data='s3://sagemaker-convlstm/ConvLSTM_50.tar.gz', role = get_execution_role(),\n",
    "                             entry_point = 'inference.py', framework_version = '1.8', py_version = 'py36')\n",
    "predictor = pytorch_model.deploy(instance_type='ml.p2.xlarge', initial_instance_count = 1)\n",
    "#instance_type='ml.m4.xlarge', initial_instance_count=1, accelerator_type='ml.eia2.medium'\n",
    "#instance_type='ml.p2.xlarge', initial_instance_count=1"
   ]
  },
  {
   "cell_type": "code",
   "execution_count": null,
   "id": "562ae92a",
   "metadata": {},
   "outputs": [],
   "source": [
    "### current working model ###\n",
    "pytorch_model = PyTorchModel(model_data='s3://sagemaker-convlstm/ConvLSTM_50.tar.gz', role = get_execution_role(),\n",
    "                             entry_point = 'inference.py', framework_version = '1.8', py_version = 'py36')\n",
    "predictor = pytorch_model.deploy(instance_type='ml.p2.xlarge', initial_instance_count = 1)"
   ]
  }
 ],
 "metadata": {
  "kernelspec": {
   "display_name": "conda_pytorch_latest_p36",
   "language": "python",
   "name": "conda_pytorch_latest_p36"
  },
  "language_info": {
   "codemirror_mode": {
    "name": "ipython",
    "version": 3
   },
   "file_extension": ".py",
   "mimetype": "text/x-python",
   "name": "python",
   "nbconvert_exporter": "python",
   "pygments_lexer": "ipython3",
   "version": "3.6.13"
  }
 },
 "nbformat": 4,
 "nbformat_minor": 5
}
